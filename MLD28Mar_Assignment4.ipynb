{
 "cells": [
  {
   "cell_type": "code",
   "execution_count": 4,
   "metadata": {},
   "outputs": [
    {
     "name": "stdout",
     "output_type": "stream",
     "text": [
      "Enter side a: 10\n",
      "Enter side b: 15\n",
      "Enter side c: 20\n",
      "Area of triangle having different side is:  72.61843774138907\n"
     ]
    }
   ],
   "source": [
    "'''\n",
    "1.1 Write a Python Program(with class concepts) to find the area of the triangle using the below\n",
    "formula.\n",
    "area = (s*(s-a)*(s-b)*(s-c)) ** 0.5\n",
    "\n",
    "Function to take the length of the sides of triangle from user should be defined in the parent\n",
    "class and function to calculate the area should be defined in subclass.\n",
    "\n",
    "'''\n",
    "\n",
    "#Solution 1.1:\n",
    "\n",
    "class shape:\n",
    "    def setsides(self):\n",
    "        self.side_a = float(input(\"Enter side a: \"))\n",
    "        self.side_b = float(input(\"Enter side b: \"))\n",
    "        self.side_c = float(input(\"Enter side c: \"))\n",
    "        #self.side_a= side_a\n",
    "        #self.side_b = side_b\n",
    "        #self.side_c = side_c\n",
    "    \n",
    "    def view(self):\n",
    "        print(\"Sides are: \",self.a , self.b, self.c)\n",
    "\n",
    "class triangle(shape):\n",
    "    def __init__(self):\n",
    "        pass\n",
    "    \n",
    "    def area(self):\n",
    "        self.side = (self.side_a +self.side_b+ self.side_c)/2\n",
    "        s=self.side\n",
    "        #print(self.side, self.side_a, self.side_b, self.side_c, s, (s-self.side_a), (s-self.side_b), (s-self.side_c))\n",
    "        self.area = (s*(s-self.side_a)*(s - self.side_b)*(s - self.side_c))**0.5\n",
    "        print(\"Area of triangle having different side is: \", self.area)\n",
    "\n",
    "\n",
    "#calling area function using child class object\n",
    "p=triangle()\n",
    "p.setsides()\n",
    "p.area()"
   ]
  },
  {
   "cell_type": "code",
   "execution_count": 8,
   "metadata": {},
   "outputs": [
    {
     "name": "stdout",
     "output_type": "stream",
     "text": [
      "Enter maxlength: 5\n",
      "List of words having length greater than 5 is ['Python', 'super-cool', 'language', 'compared', 'languages']\n"
     ]
    }
   ],
   "source": [
    "'''\n",
    "1.2 Write a function filter_long_words() that takes a list of words and an integer n and returns\n",
    "the list of words that are longer than n.\n",
    "\n",
    "'''\n",
    "\n",
    "#Solution 1.2:\n",
    "\n",
    "def filter_long_words(listofwords, maxlength):\n",
    "    maxwords=[]\n",
    "    for i in listofwords:\n",
    "        if len(i)>0 and len(i) > maxlength:\n",
    "            maxwords.append(i)\n",
    "\n",
    "    return maxwords    \n",
    "\n",
    "\n",
    "#calling filter_long_words than a given length:\n",
    "mystr=\"Python is a super-cool language as compared to other languages\"\n",
    "maxlen = int(input(\"Enter maxlength: \"))\n",
    "print(\"List of words having length greater than {0} is {1}\".format(maxlen,filter_long_words(mystr.split(), maxlen)))"
   ]
  },
  {
   "cell_type": "code",
   "execution_count": 9,
   "metadata": {},
   "outputs": [
    {
     "name": "stdout",
     "output_type": "stream",
     "text": [
      "List of words passed is: ['Python', 'is', 'an', 'open-source', 'language', 'used', 'in', 'Web', 'development,', 'Data', 'Analytics', 'and', 'Machine', 'learning.']\n",
      "Corresponding list of integers representing length of words:  [6, 2, 2, 11, 8, 4, 2, 3, 12, 4, 9, 3, 7, 9]\n"
     ]
    }
   ],
   "source": [
    "'''\n",
    "2.1 Write a Python program using function concept that maps list of words into a list of integers\n",
    "representing the lengths of the corresponding words.\n",
    "Hint: If a list [ ab,cde,erty] is passed on to the python function output should come as [2,3,4]\n",
    "Here 2,3 and 4 are the lengths of the words in the list.\n",
    "\n",
    "'''\n",
    "#Solution 2.1:\n",
    "\n",
    "def findlengthofwords(listofwords):\n",
    "    lstofintegers=[]\n",
    "    print(\"List of words passed is: {wordlist}\".format(wordlist=listofwords))\n",
    "    for i in listofwords:\n",
    "        lstofintegers.append(len(i))\n",
    "    \n",
    "    return lstofintegers    \n",
    "\n",
    "\n",
    "#calling function callengthofwords:\n",
    "mystr1=\"Python is an open-source language used in Web development, Data Analytics and Machine learning.\"\n",
    "print(\"Corresponding list of integers representing length of words: \",findlengthofwords(mystr1.split()))"
   ]
  },
  {
   "cell_type": "code",
   "execution_count": 11,
   "metadata": {},
   "outputs": [
    {
     "name": "stdout",
     "output_type": "stream",
     "text": [
      "Enter word to check for vowel: Mohit Madan\n",
      "False\n",
      "False\n",
      "True\n",
      "False\n"
     ]
    }
   ],
   "source": [
    "'''\n",
    "2.2 Write a Python function which takes a character (i.e. a string of length 1) and returns True if\n",
    "it is a vowel, False otherwise.\n",
    "\n",
    "'''\n",
    "\n",
    "#Solution 2.2\n",
    "\n",
    "def isVowel(word):\n",
    "    isitvowel=False\n",
    "    word=word.lower()\n",
    "    lengthofword = len(word)\n",
    "    vowel=['a','e','i','o','u']\n",
    "    if lengthofword == 1:\n",
    "        isitvowel= word in vowel\n",
    "    elif lengthofword > 1:\n",
    "        isitvowel = word[0] in vowel\n",
    "    return isitvowel\n",
    "\n",
    "#calling isvowel() function:\n",
    "value= input(\"Enter word to check for vowel: \")\n",
    "print(isVowel(value))\n",
    "print(isVowel(\"P\"))\n",
    "print(isVowel(\"Opensource\"))\n",
    "print(isVowel('Web'))"
   ]
  },
  {
   "cell_type": "code",
   "execution_count": null,
   "metadata": {},
   "outputs": [],
   "source": []
  }
 ],
 "metadata": {
  "kernelspec": {
   "display_name": "Python 3",
   "language": "python",
   "name": "python3"
  },
  "language_info": {
   "codemirror_mode": {
    "name": "ipython",
    "version": 3
   },
   "file_extension": ".py",
   "mimetype": "text/x-python",
   "name": "python",
   "nbconvert_exporter": "python",
   "pygments_lexer": "ipython3",
   "version": "3.7.4"
  }
 },
 "nbformat": 4,
 "nbformat_minor": 2
}
