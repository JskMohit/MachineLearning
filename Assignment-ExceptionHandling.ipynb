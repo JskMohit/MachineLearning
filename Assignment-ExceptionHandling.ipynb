{
 "cells": [
  {
   "cell_type": "code",
   "execution_count": 1,
   "metadata": {},
   "outputs": [
    {
     "name": "stdout",
     "output_type": "stream",
     "text": [
      "ZeroDivisionError occured.\n"
     ]
    },
    {
     "data": {
      "text/plain": [
       "0"
      ]
     },
     "execution_count": 1,
     "metadata": {},
     "output_type": "execute_result"
    }
   ],
   "source": [
    "'''\n",
    "1.\n",
    "\n",
    "Write a function to compute 5/0 and use try/except to catch the exceptions.\n",
    "'''\n",
    "#solution 1:\n",
    "def compute(n1, n2):\n",
    "    result=0\n",
    "    try:\n",
    "        result = n1/n2\n",
    "    except TypeError as e:\n",
    "        print(\"Type error: \", e)\n",
    "    except ValueError as e:\n",
    "        print(\"Value error: \", e)\n",
    "    except ZeroDivisionError as e:\n",
    "        print(\"ZeroDivisionError occured.\")\n",
    "    return result\n",
    "\n",
    "#calling compute function\n",
    "compute(2,3)\n",
    "compute(9,0)"
   ]
  },
  {
   "cell_type": "code",
   "execution_count": 2,
   "metadata": {},
   "outputs": [
    {
     "name": "stdout",
     "output_type": "stream",
     "text": [
      "Americans Play Baseball.\n",
      "Americans Play cricket.\n",
      "Americans watch Baseball.\n",
      "Americans watch cricket.\n",
      "Indians Play Baseball.\n",
      "Indians Play cricket.\n",
      "Indians watch Baseball.\n",
      "Indians watch cricket.\n"
     ]
    }
   ],
   "source": [
    "'''\n",
    "2.\n",
    "\n",
    "Implement a Python program to generate all sentences where subject is in [\"Americans\",\n",
    "\"Indians\"] and verb is in [\"Play\", \"watch\"] and the object is in [\"Baseball\",\"cricket\"].\n",
    "Hint: Subject,Verb and Object should be declared in the program as shown below.\n",
    "subjects=[\"Americans \",\"Indians\"]\n",
    "verbs=[\"play\",\"watch\"]\n",
    "\n",
    "objects=[\"Baseball\",\"Cricket\"]\n",
    "\n",
    "Output should come as below:\n",
    "Americans play Baseball.\n",
    "Americans play Cricket.\n",
    "Americans watch Baseball.\n",
    "Americans watch Cricket.\n",
    "Indians play Baseball.\n",
    "Indians play Cricket.\n",
    "Indians watch Baseball.\n",
    "Indians watch Cricket.\n",
    "'''\n",
    "#solution 2:\n",
    "def concatval():\n",
    "    subject = [\"Americans\",\"Indians\"] \n",
    "    verb = [\"Play\", \"watch\"] \n",
    "    gobject = [\"Baseball\",\"cricket\"]\n",
    "    \n",
    "    for i in subject:\n",
    "        for j in verb:\n",
    "            for k in gobject:\n",
    "                print(i+\" \"+j+\" \"+k+\".\")\n",
    "                \n",
    "#calling concatVal()\n",
    "concatval()"
   ]
  },
  {
   "cell_type": "code",
   "execution_count": null,
   "metadata": {},
   "outputs": [],
   "source": []
  }
 ],
 "metadata": {
  "kernelspec": {
   "display_name": "Python 3",
   "language": "python",
   "name": "python3"
  },
  "language_info": {
   "codemirror_mode": {
    "name": "ipython",
    "version": 3
   },
   "file_extension": ".py",
   "mimetype": "text/x-python",
   "name": "python",
   "nbconvert_exporter": "python",
   "pygments_lexer": "ipython3",
   "version": "3.7.4"
  }
 },
 "nbformat": 4,
 "nbformat_minor": 2
}
